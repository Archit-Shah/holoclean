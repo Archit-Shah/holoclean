{
 "cells": [
  {
   "cell_type": "code",
   "execution_count": 1,
   "metadata": {
    "collapsed": false
   },
   "outputs": [],
   "source": [
    "%load_ext autoreload\n",
    "%autoreload 2\n",
    "\n",
    "import pandas as pd\n",
    "%matplotlib inline\n",
    "import matplotlib.pyplot as plt\n",
    "\n",
    "from _helpers import *\n",
    "from IPython.display import display"
   ]
  },
  {
   "cell_type": "code",
   "execution_count": 3,
   "metadata": {
    "collapsed": true
   },
   "outputs": [],
   "source": [
    "F_DOM = 'examples/experiments/hospital2/meta/hospital_domain_all.pkl'\n",
    "F_DK = 'examples/hospital_dk_cells.pkl'\n",
    "F_CLEAN = 'testdata/hospital_clean.csv'\n",
    "F_RAW = 'testdata/hospital.csv'"
   ]
  },
  {
   "cell_type": "code",
   "execution_count": 4,
   "metadata": {
    "collapsed": false
   },
   "outputs": [],
   "source": [
    "df_dom, df_dk, df_clean, df_raw = read_data(F_DOM, F_DK, F_CLEAN, F_RAW)"
   ]
  },
  {
   "cell_type": "code",
   "execution_count": 6,
   "metadata": {
    "collapsed": false
   },
   "outputs": [],
   "source": [
    "df_ref = combine_df(df_dom, df_dk, df_clean)"
   ]
  },
  {
   "cell_type": "code",
   "execution_count": 7,
   "metadata": {
    "collapsed": false
   },
   "outputs": [
    {
     "data": {
      "text/plain": [
       "attribute\n",
       "Address1            31\n",
       "City                33\n",
       "Condition           32\n",
       "CountyName          39\n",
       "EmergencyService    27\n",
       "HospitalName        24\n",
       "HospitalOwner       27\n",
       "HospitalType        32\n",
       "MeasureCode         29\n",
       "MeasureName         36\n",
       "PhoneNumber         34\n",
       "ProviderNumber      28\n",
       "Sample              31\n",
       "Score               23\n",
       "State               26\n",
       "Stateavg            27\n",
       "ZipCode             30\n",
       "dtype: int64"
      ]
     },
     "execution_count": 7,
     "metadata": {},
     "output_type": "execute_result"
    }
   ],
   "source": [
    "df_ref[df_ref.correct_val != df_ref.init_value].groupby('attribute').size()"
   ]
  },
  {
   "cell_type": "markdown",
   "metadata": {},
   "source": [
    "### How many can we actually repair"
   ]
  },
  {
   "cell_type": "code",
   "execution_count": 19,
   "metadata": {
    "collapsed": false
   },
   "outputs": [
    {
     "data": {
      "text/plain": [
       "(16773, 7)"
      ]
     },
     "execution_count": 19,
     "metadata": {},
     "output_type": "execute_result"
    }
   ],
   "source": [
    "df_ref.shape"
   ]
  },
  {
   "cell_type": "code",
   "execution_count": 21,
   "metadata": {
    "collapsed": false
   },
   "outputs": [
    {
     "data": {
      "text/plain": [
       "16759"
      ]
     },
     "execution_count": 21,
     "metadata": {},
     "output_type": "execute_result"
    }
   ],
   "source": [
    "df_ref.apply(lambda r: r.correct_val in r.domain, axis=1).sum()"
   ]
  },
  {
   "cell_type": "code",
   "execution_count": 20,
   "metadata": {
    "collapsed": false
   },
   "outputs": [
    {
     "data": {
      "text/plain": [
       "495"
      ]
     },
     "execution_count": 20,
     "metadata": {},
     "output_type": "execute_result"
    }
   ],
   "source": [
    "df_ref[df_ref['correct_val'] != df_ref['init_value']].apply(lambda r: r.correct_val in r.domain, axis=1).sum()"
   ]
  },
  {
   "cell_type": "code",
   "execution_count": 22,
   "metadata": {
    "collapsed": false
   },
   "outputs": [
    {
     "data": {
      "text/plain": [
       "435"
      ]
     },
     "execution_count": 22,
     "metadata": {},
     "output_type": "execute_result"
    }
   ],
   "source": [
    "df_ref[(df_ref['correct_val'] != df_ref['init_value']) & df_ref.is_dk].apply(lambda r: r.correct_val in r.domain, axis=1).sum()"
   ]
  },
  {
   "cell_type": "markdown",
   "metadata": {},
   "source": [
    "# Experiments"
   ]
  },
  {
   "cell_type": "markdown",
   "metadata": {},
   "source": [
    "## Trained embedding model"
   ]
  },
  {
   "cell_type": "markdown",
   "metadata": {},
   "source": [
    "Precision (all): 29.2%\n",
    "\n",
    "Precision (DK): 40.4%\n",
    "\n",
    "Repair recall: 91%"
   ]
  },
  {
   "cell_type": "code",
   "execution_count": 23,
   "metadata": {
    "collapsed": true
   },
   "outputs": [],
   "source": [
    "pref1 = 'examples/experiments/hospital2/results/embed_epochs_10epoch_32batch_0lambda_ALL_attrs'"
   ]
  },
  {
   "cell_type": "code",
   "execution_count": 24,
   "metadata": {
    "collapsed": true
   },
   "outputs": [
    {
     "data": {
      "image/png": "[encoded data removed]",
      "text/plain": [
       "<Figure size 432x288 with 1 Axes>"
      ]
     },
     "metadata": {},
     "output_type": "display_data"
    },
    {
     "name": "stdout",
     "output_type": "stream",
     "text": [
      "Total cells: 16773\n",
      "Total errors:  509\n",
      "Total DK cells:  11038\n",
      "\n",
      "All predicted\n",
      "-------------\n",
      "# of cells (in this subset):  16773\n",
      "# of errors (in this subset):  509\n",
      "\n",
      "# correct preds:  8231\n",
      "# incorrect preds:  8542\n",
      "\n",
      "# of repairs:  8616\n",
      "\n",
      "# of repairs (on correct cells):  8144\n",
      "# of repairs (on incorrect cells):  472\n",
      "\n",
      "# of correct repairs:  111\n",
      "\n",
      "precision:  0.01288300835654596\n",
      "overall recall (/ total errors):  0.2180746561886051\n",
      "recall (/ errors in this subset):  0.2180746561886051\n",
      "\n",
      "DK cells (repair precision/recall)\n",
      "-------------\n",
      "# of cells (in this subset):  11038\n",
      "# of errors (in this subset):  435\n",
      "\n",
      "# correct preds:  4035\n",
      "# incorrect preds:  7003\n",
      "\n",
      "# of repairs:  7053\n",
      "\n",
      "# of repairs (on correct cells):  6655\n",
      "# of repairs (on incorrect cells):  398\n",
      "\n",
      "# of correct repairs:  87\n",
      "\n",
      "precision:  0.01233517652062952\n",
      "overall recall (/ total errors):  0.17092337917485265\n",
      "recall (/ errors in this subset):  0.2\n",
      "\n"
     ]
    }
   ],
   "source": [
    "_ = analyze_results('%s_validation_at_9_epoch.csv' % pref1, df_ref, None)"
   ]
  },
  {
   "cell_type": "code",
   "execution_count": 28,
   "metadata": {
    "collapsed": false
   },
   "outputs": [],
   "source": [
    "init_val_idxs, train_val_idxs, attr_idxs, sdict = model_metadata(pref1 + '_epoch_10')"
   ]
  },
  {
   "cell_type": "code",
   "execution_count": 31,
   "metadata": {
    "collapsed": false
   },
   "outputs": [
    {
     "data": {
      "text/plain": [
       "{'Address1': 0,\n",
       " 'City': 1,\n",
       " 'Condition': 2,\n",
       " 'CountyName': 3,\n",
       " 'EmergencyService': 4,\n",
       " 'HospitalName': 5,\n",
       " 'HospitalOwner': 6,\n",
       " 'HospitalType': 7,\n",
       " 'MeasureCode': 8,\n",
       " 'MeasureName': 9,\n",
       " 'PhoneNumber': 10,\n",
       " 'ProviderNumber': 11,\n",
       " 'Sample': 12,\n",
       " 'Score': 13,\n",
       " 'State': 14,\n",
       " 'Stateavg': 15,\n",
       " 'ZipCode': 16}"
      ]
     },
     "execution_count": 31,
     "metadata": {},
     "output_type": "execute_result"
    }
   ],
   "source": [
    "attr_idxs"
   ]
  },
  {
   "cell_type": "code",
   "execution_count": 32,
   "metadata": {
    "collapsed": false
   },
   "outputs": [
    {
     "data": {
      "text/html": [
       "<div>\n",
       "<style scoped>\n",
       "    .dataframe tbody tr th:only-of-type {\n",
       "        vertical-align: middle;\n",
       "    }\n",
       "\n",
       "    .dataframe tbody tr th {\n",
       "        vertical-align: top;\n",
       "    }\n",
       "\n",
       "    .dataframe thead tr th {\n",
       "        text-align: left;\n",
       "    }\n",
       "\n",
       "    .dataframe thead tr:last-of-type th {\n",
       "        text-align: right;\n",
       "    }\n",
       "</style>\n",
       "<table border=\"1\" class=\"dataframe\">\n",
       "  <thead>\n",
       "    <tr>\n",
       "      <th></th>\n",
       "      <th colspan=\"17\" halign=\"left\">weight</th>\n",
       "    </tr>\n",
       "    <tr>\n",
       "      <th>givenattr/coattr</th>\n",
       "      <th>Address1</th>\n",
       "      <th>City</th>\n",
       "      <th>Condition</th>\n",
       "      <th>CountyName</th>\n",
       "      <th>EmergencyService</th>\n",
       "      <th>HospitalName</th>\n",
       "      <th>HospitalOwner</th>\n",
       "      <th>HospitalType</th>\n",
       "      <th>MeasureCode</th>\n",
       "      <th>MeasureName</th>\n",
       "      <th>PhoneNumber</th>\n",
       "      <th>ProviderNumber</th>\n",
       "      <th>Sample</th>\n",
       "      <th>Score</th>\n",
       "      <th>State</th>\n",
       "      <th>Stateavg</th>\n",
       "      <th>ZipCode</th>\n",
       "    </tr>\n",
       "    <tr>\n",
       "      <th>attr</th>\n",
       "      <th></th>\n",
       "      <th></th>\n",
       "      <th></th>\n",
       "      <th></th>\n",
       "      <th></th>\n",
       "      <th></th>\n",
       "      <th></th>\n",
       "      <th></th>\n",
       "      <th></th>\n",
       "      <th></th>\n",
       "      <th></th>\n",
       "      <th></th>\n",
       "      <th></th>\n",
       "      <th></th>\n",
       "      <th></th>\n",
       "      <th></th>\n",
       "      <th></th>\n",
       "    </tr>\n",
       "  </thead>\n",
       "  <tbody>\n",
       "    <tr>\n",
       "      <th>Address1</th>\n",
       "      <td>NaN</td>\n",
       "      <td>0.048</td>\n",
       "      <td>0.009</td>\n",
       "      <td>0.024</td>\n",
       "      <td>0.015</td>\n",
       "      <td>0.089</td>\n",
       "      <td>0.010</td>\n",
       "      <td>0.016</td>\n",
       "      <td>0.011</td>\n",
       "      <td>0.012</td>\n",
       "      <td>0.255</td>\n",
       "      <td>0.278</td>\n",
       "      <td>0.013</td>\n",
       "      <td>0.018</td>\n",
       "      <td>0.019</td>\n",
       "      <td>0.012</td>\n",
       "      <td>0.172</td>\n",
       "    </tr>\n",
       "    <tr>\n",
       "      <th>City</th>\n",
       "      <td>0.075</td>\n",
       "      <td>NaN</td>\n",
       "      <td>0.030</td>\n",
       "      <td>0.094</td>\n",
       "      <td>0.022</td>\n",
       "      <td>0.133</td>\n",
       "      <td>0.064</td>\n",
       "      <td>0.038</td>\n",
       "      <td>0.023</td>\n",
       "      <td>0.021</td>\n",
       "      <td>0.161</td>\n",
       "      <td>0.077</td>\n",
       "      <td>0.028</td>\n",
       "      <td>0.017</td>\n",
       "      <td>0.027</td>\n",
       "      <td>0.024</td>\n",
       "      <td>0.166</td>\n",
       "    </tr>\n",
       "    <tr>\n",
       "      <th>Condition</th>\n",
       "      <td>0.035</td>\n",
       "      <td>0.041</td>\n",
       "      <td>NaN</td>\n",
       "      <td>0.047</td>\n",
       "      <td>0.075</td>\n",
       "      <td>0.045</td>\n",
       "      <td>0.075</td>\n",
       "      <td>0.089</td>\n",
       "      <td>0.116</td>\n",
       "      <td>0.106</td>\n",
       "      <td>0.043</td>\n",
       "      <td>0.046</td>\n",
       "      <td>0.027</td>\n",
       "      <td>0.064</td>\n",
       "      <td>0.092</td>\n",
       "      <td>0.054</td>\n",
       "      <td>0.047</td>\n",
       "    </tr>\n",
       "    <tr>\n",
       "      <th>CountyName</th>\n",
       "      <td>0.106</td>\n",
       "      <td>0.164</td>\n",
       "      <td>0.022</td>\n",
       "      <td>NaN</td>\n",
       "      <td>0.026</td>\n",
       "      <td>0.061</td>\n",
       "      <td>0.017</td>\n",
       "      <td>0.025</td>\n",
       "      <td>0.015</td>\n",
       "      <td>0.017</td>\n",
       "      <td>0.130</td>\n",
       "      <td>0.196</td>\n",
       "      <td>0.022</td>\n",
       "      <td>0.015</td>\n",
       "      <td>0.020</td>\n",
       "      <td>0.026</td>\n",
       "      <td>0.139</td>\n",
       "    </tr>\n",
       "    <tr>\n",
       "      <th>EmergencyService</th>\n",
       "      <td>0.180</td>\n",
       "      <td>0.114</td>\n",
       "      <td>0.043</td>\n",
       "      <td>0.240</td>\n",
       "      <td>NaN</td>\n",
       "      <td>0.071</td>\n",
       "      <td>0.029</td>\n",
       "      <td>0.026</td>\n",
       "      <td>0.040</td>\n",
       "      <td>0.034</td>\n",
       "      <td>0.026</td>\n",
       "      <td>0.038</td>\n",
       "      <td>0.024</td>\n",
       "      <td>0.026</td>\n",
       "      <td>0.027</td>\n",
       "      <td>0.029</td>\n",
       "      <td>0.053</td>\n",
       "    </tr>\n",
       "    <tr>\n",
       "      <th>HospitalName</th>\n",
       "      <td>0.048</td>\n",
       "      <td>0.045</td>\n",
       "      <td>0.058</td>\n",
       "      <td>0.087</td>\n",
       "      <td>0.095</td>\n",
       "      <td>NaN</td>\n",
       "      <td>0.065</td>\n",
       "      <td>0.056</td>\n",
       "      <td>0.093</td>\n",
       "      <td>0.107</td>\n",
       "      <td>0.034</td>\n",
       "      <td>0.036</td>\n",
       "      <td>0.036</td>\n",
       "      <td>0.062</td>\n",
       "      <td>0.065</td>\n",
       "      <td>0.061</td>\n",
       "      <td>0.050</td>\n",
       "    </tr>\n",
       "    <tr>\n",
       "      <th>HospitalOwner</th>\n",
       "      <td>0.127</td>\n",
       "      <td>0.140</td>\n",
       "      <td>0.019</td>\n",
       "      <td>0.035</td>\n",
       "      <td>0.031</td>\n",
       "      <td>0.049</td>\n",
       "      <td>NaN</td>\n",
       "      <td>0.040</td>\n",
       "      <td>0.018</td>\n",
       "      <td>0.032</td>\n",
       "      <td>0.174</td>\n",
       "      <td>0.115</td>\n",
       "      <td>0.025</td>\n",
       "      <td>0.022</td>\n",
       "      <td>0.030</td>\n",
       "      <td>0.024</td>\n",
       "      <td>0.118</td>\n",
       "    </tr>\n",
       "    <tr>\n",
       "      <th>HospitalType</th>\n",
       "      <td>0.040</td>\n",
       "      <td>0.039</td>\n",
       "      <td>0.113</td>\n",
       "      <td>0.053</td>\n",
       "      <td>0.101</td>\n",
       "      <td>0.034</td>\n",
       "      <td>0.113</td>\n",
       "      <td>NaN</td>\n",
       "      <td>0.083</td>\n",
       "      <td>0.078</td>\n",
       "      <td>0.036</td>\n",
       "      <td>0.039</td>\n",
       "      <td>0.041</td>\n",
       "      <td>0.036</td>\n",
       "      <td>0.136</td>\n",
       "      <td>0.035</td>\n",
       "      <td>0.023</td>\n",
       "    </tr>\n",
       "    <tr>\n",
       "      <th>MeasureCode</th>\n",
       "      <td>0.049</td>\n",
       "      <td>0.043</td>\n",
       "      <td>0.074</td>\n",
       "      <td>0.063</td>\n",
       "      <td>0.072</td>\n",
       "      <td>0.038</td>\n",
       "      <td>0.049</td>\n",
       "      <td>0.086</td>\n",
       "      <td>NaN</td>\n",
       "      <td>0.071</td>\n",
       "      <td>0.048</td>\n",
       "      <td>0.059</td>\n",
       "      <td>0.060</td>\n",
       "      <td>0.082</td>\n",
       "      <td>0.065</td>\n",
       "      <td>0.109</td>\n",
       "      <td>0.033</td>\n",
       "    </tr>\n",
       "    <tr>\n",
       "      <th>MeasureName</th>\n",
       "      <td>0.074</td>\n",
       "      <td>0.047</td>\n",
       "      <td>0.082</td>\n",
       "      <td>0.045</td>\n",
       "      <td>0.076</td>\n",
       "      <td>0.039</td>\n",
       "      <td>0.112</td>\n",
       "      <td>0.100</td>\n",
       "      <td>0.047</td>\n",
       "      <td>NaN</td>\n",
       "      <td>0.059</td>\n",
       "      <td>0.029</td>\n",
       "      <td>0.066</td>\n",
       "      <td>0.038</td>\n",
       "      <td>0.093</td>\n",
       "      <td>0.058</td>\n",
       "      <td>0.035</td>\n",
       "    </tr>\n",
       "    <tr>\n",
       "      <th>PhoneNumber</th>\n",
       "      <td>0.075</td>\n",
       "      <td>0.162</td>\n",
       "      <td>0.034</td>\n",
       "      <td>0.081</td>\n",
       "      <td>0.029</td>\n",
       "      <td>0.179</td>\n",
       "      <td>0.023</td>\n",
       "      <td>0.017</td>\n",
       "      <td>0.016</td>\n",
       "      <td>0.020</td>\n",
       "      <td>NaN</td>\n",
       "      <td>0.129</td>\n",
       "      <td>0.024</td>\n",
       "      <td>0.014</td>\n",
       "      <td>0.022</td>\n",
       "      <td>0.034</td>\n",
       "      <td>0.141</td>\n",
       "    </tr>\n",
       "    <tr>\n",
       "      <th>ProviderNumber</th>\n",
       "      <td>0.076</td>\n",
       "      <td>0.178</td>\n",
       "      <td>0.042</td>\n",
       "      <td>0.107</td>\n",
       "      <td>0.024</td>\n",
       "      <td>0.136</td>\n",
       "      <td>0.063</td>\n",
       "      <td>0.037</td>\n",
       "      <td>0.026</td>\n",
       "      <td>0.021</td>\n",
       "      <td>0.073</td>\n",
       "      <td>NaN</td>\n",
       "      <td>0.023</td>\n",
       "      <td>0.015</td>\n",
       "      <td>0.055</td>\n",
       "      <td>0.040</td>\n",
       "      <td>0.084</td>\n",
       "    </tr>\n",
       "    <tr>\n",
       "      <th>Sample</th>\n",
       "      <td>0.065</td>\n",
       "      <td>0.027</td>\n",
       "      <td>0.059</td>\n",
       "      <td>0.095</td>\n",
       "      <td>0.029</td>\n",
       "      <td>0.136</td>\n",
       "      <td>0.042</td>\n",
       "      <td>0.041</td>\n",
       "      <td>0.037</td>\n",
       "      <td>0.044</td>\n",
       "      <td>0.150</td>\n",
       "      <td>0.078</td>\n",
       "      <td>NaN</td>\n",
       "      <td>0.012</td>\n",
       "      <td>0.052</td>\n",
       "      <td>0.078</td>\n",
       "      <td>0.054</td>\n",
       "    </tr>\n",
       "    <tr>\n",
       "      <th>Score</th>\n",
       "      <td>0.049</td>\n",
       "      <td>0.038</td>\n",
       "      <td>0.107</td>\n",
       "      <td>0.043</td>\n",
       "      <td>0.125</td>\n",
       "      <td>0.053</td>\n",
       "      <td>0.106</td>\n",
       "      <td>0.088</td>\n",
       "      <td>0.099</td>\n",
       "      <td>0.050</td>\n",
       "      <td>0.021</td>\n",
       "      <td>0.031</td>\n",
       "      <td>0.041</td>\n",
       "      <td>NaN</td>\n",
       "      <td>0.086</td>\n",
       "      <td>0.040</td>\n",
       "      <td>0.021</td>\n",
       "    </tr>\n",
       "    <tr>\n",
       "      <th>State</th>\n",
       "      <td>0.049</td>\n",
       "      <td>0.055</td>\n",
       "      <td>0.040</td>\n",
       "      <td>0.116</td>\n",
       "      <td>0.032</td>\n",
       "      <td>0.056</td>\n",
       "      <td>0.041</td>\n",
       "      <td>0.054</td>\n",
       "      <td>0.030</td>\n",
       "      <td>0.047</td>\n",
       "      <td>0.103</td>\n",
       "      <td>0.071</td>\n",
       "      <td>0.039</td>\n",
       "      <td>0.019</td>\n",
       "      <td>NaN</td>\n",
       "      <td>0.177</td>\n",
       "      <td>0.069</td>\n",
       "    </tr>\n",
       "    <tr>\n",
       "      <th>Stateavg</th>\n",
       "      <td>0.029</td>\n",
       "      <td>0.028</td>\n",
       "      <td>0.096</td>\n",
       "      <td>0.071</td>\n",
       "      <td>0.066</td>\n",
       "      <td>0.029</td>\n",
       "      <td>0.070</td>\n",
       "      <td>0.089</td>\n",
       "      <td>0.150</td>\n",
       "      <td>0.079</td>\n",
       "      <td>0.037</td>\n",
       "      <td>0.024</td>\n",
       "      <td>0.059</td>\n",
       "      <td>0.026</td>\n",
       "      <td>0.120</td>\n",
       "      <td>NaN</td>\n",
       "      <td>0.028</td>\n",
       "    </tr>\n",
       "    <tr>\n",
       "      <th>ZipCode</th>\n",
       "      <td>0.110</td>\n",
       "      <td>0.073</td>\n",
       "      <td>0.030</td>\n",
       "      <td>0.131</td>\n",
       "      <td>0.027</td>\n",
       "      <td>0.192</td>\n",
       "      <td>0.036</td>\n",
       "      <td>0.043</td>\n",
       "      <td>0.023</td>\n",
       "      <td>0.018</td>\n",
       "      <td>0.095</td>\n",
       "      <td>0.118</td>\n",
       "      <td>0.032</td>\n",
       "      <td>0.016</td>\n",
       "      <td>0.029</td>\n",
       "      <td>0.028</td>\n",
       "      <td>NaN</td>\n",
       "    </tr>\n",
       "  </tbody>\n",
       "</table>\n",
       "</div>"
      ],
      "text/plain": [
       "                   weight                                               \\\n",
       "givenattr/coattr Address1   City Condition CountyName EmergencyService   \n",
       "attr                                                                     \n",
       "Address1              NaN  0.048     0.009      0.024            0.015   \n",
       "City                0.075    NaN     0.030      0.094            0.022   \n",
       "Condition           0.035  0.041       NaN      0.047            0.075   \n",
       "CountyName          0.106  0.164     0.022        NaN            0.026   \n",
       "EmergencyService    0.180  0.114     0.043      0.240              NaN   \n",
       "HospitalName        0.048  0.045     0.058      0.087            0.095   \n",
       "HospitalOwner       0.127  0.140     0.019      0.035            0.031   \n",
       "HospitalType        0.040  0.039     0.113      0.053            0.101   \n",
       "MeasureCode         0.049  0.043     0.074      0.063            0.072   \n",
       "MeasureName         0.074  0.047     0.082      0.045            0.076   \n",
       "PhoneNumber         0.075  0.162     0.034      0.081            0.029   \n",
       "ProviderNumber      0.076  0.178     0.042      0.107            0.024   \n",
       "Sample              0.065  0.027     0.059      0.095            0.029   \n",
       "Score               0.049  0.038     0.107      0.043            0.125   \n",
       "State               0.049  0.055     0.040      0.116            0.032   \n",
       "Stateavg            0.029  0.028     0.096      0.071            0.066   \n",
       "ZipCode             0.110  0.073     0.030      0.131            0.027   \n",
       "\n",
       "                                                                      \\\n",
       "givenattr/coattr HospitalName HospitalOwner HospitalType MeasureCode   \n",
       "attr                                                                   \n",
       "Address1                0.089         0.010        0.016       0.011   \n",
       "City                    0.133         0.064        0.038       0.023   \n",
       "Condition               0.045         0.075        0.089       0.116   \n",
       "CountyName              0.061         0.017        0.025       0.015   \n",
       "EmergencyService        0.071         0.029        0.026       0.040   \n",
       "HospitalName              NaN         0.065        0.056       0.093   \n",
       "HospitalOwner           0.049           NaN        0.040       0.018   \n",
       "HospitalType            0.034         0.113          NaN       0.083   \n",
       "MeasureCode             0.038         0.049        0.086         NaN   \n",
       "MeasureName             0.039         0.112        0.100       0.047   \n",
       "PhoneNumber             0.179         0.023        0.017       0.016   \n",
       "ProviderNumber          0.136         0.063        0.037       0.026   \n",
       "Sample                  0.136         0.042        0.041       0.037   \n",
       "Score                   0.053         0.106        0.088       0.099   \n",
       "State                   0.056         0.041        0.054       0.030   \n",
       "Stateavg                0.029         0.070        0.089       0.150   \n",
       "ZipCode                 0.192         0.036        0.043       0.023   \n",
       "\n",
       "                                                                              \\\n",
       "givenattr/coattr MeasureName PhoneNumber ProviderNumber Sample  Score  State   \n",
       "attr                                                                           \n",
       "Address1               0.012       0.255          0.278  0.013  0.018  0.019   \n",
       "City                   0.021       0.161          0.077  0.028  0.017  0.027   \n",
       "Condition              0.106       0.043          0.046  0.027  0.064  0.092   \n",
       "CountyName             0.017       0.130          0.196  0.022  0.015  0.020   \n",
       "EmergencyService       0.034       0.026          0.038  0.024  0.026  0.027   \n",
       "HospitalName           0.107       0.034          0.036  0.036  0.062  0.065   \n",
       "HospitalOwner          0.032       0.174          0.115  0.025  0.022  0.030   \n",
       "HospitalType           0.078       0.036          0.039  0.041  0.036  0.136   \n",
       "MeasureCode            0.071       0.048          0.059  0.060  0.082  0.065   \n",
       "MeasureName              NaN       0.059          0.029  0.066  0.038  0.093   \n",
       "PhoneNumber            0.020         NaN          0.129  0.024  0.014  0.022   \n",
       "ProviderNumber         0.021       0.073            NaN  0.023  0.015  0.055   \n",
       "Sample                 0.044       0.150          0.078    NaN  0.012  0.052   \n",
       "Score                  0.050       0.021          0.031  0.041    NaN  0.086   \n",
       "State                  0.047       0.103          0.071  0.039  0.019    NaN   \n",
       "Stateavg               0.079       0.037          0.024  0.059  0.026  0.120   \n",
       "ZipCode                0.018       0.095          0.118  0.032  0.016  0.029   \n",
       "\n",
       "                                   \n",
       "givenattr/coattr Stateavg ZipCode  \n",
       "attr                               \n",
       "Address1            0.012   0.172  \n",
       "City                0.024   0.166  \n",
       "Condition           0.054   0.047  \n",
       "CountyName          0.026   0.139  \n",
       "EmergencyService    0.029   0.053  \n",
       "HospitalName        0.061   0.050  \n",
       "HospitalOwner       0.024   0.118  \n",
       "HospitalType        0.035   0.023  \n",
       "MeasureCode         0.109   0.033  \n",
       "MeasureName         0.058   0.035  \n",
       "PhoneNumber         0.034   0.141  \n",
       "ProviderNumber      0.040   0.084  \n",
       "Sample              0.078   0.054  \n",
       "Score               0.040   0.021  \n",
       "State               0.177   0.069  \n",
       "Stateavg              NaN   0.028  \n",
       "ZipCode             0.028     NaN  "
      ]
     },
     "execution_count": 32,
     "metadata": {},
     "output_type": "execute_result"
    }
   ],
   "source": [
    "attrW_df(attr_idxs, sdict)"
   ]
  },
  {
   "cell_type": "code",
   "execution_count": null,
   "metadata": {
    "collapsed": true
   },
   "outputs": [],
   "source": []
  }
 ],
 "metadata": {
  "kernelspec": {
   "display_name": "Python 3",
   "language": "python",
   "name": "python3"
  },
  "language_info": {
   "codemirror_mode": {
    "name": "ipython",
    "version": 3
   },
   "file_extension": ".py",
   "mimetype": "text/x-python",
   "name": "python",
   "nbconvert_exporter": "python",
   "pygments_lexer": "ipython3",
   "version": "3.6.8"
  }
 },
 "nbformat": 4,
 "nbformat_minor": 2
}
